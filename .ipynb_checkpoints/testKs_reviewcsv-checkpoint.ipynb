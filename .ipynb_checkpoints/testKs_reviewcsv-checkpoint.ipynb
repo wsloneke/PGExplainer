{
 "cells": [
  {
   "cell_type": "code",
   "execution_count": null,
   "id": "8a40f59e-a886-4342-8f07-f73b84a3763c",
   "metadata": {},
   "outputs": [],
   "source": [
    "import pandas as pd\n",
    "import iqplot\n",
    "import bokeh.io\n",
    "import bokeh.plotting\n",
    "bokeh.io.output_notebook()"
   ]
  },
  {
   "cell_type": "code",
   "execution_count": null,
   "id": "6d1f0908-9ee3-4f51-b580-06ca90804050",
   "metadata": {},
   "outputs": [],
   "source": [
    "filename = 'results.csv'"
   ]
  },
  {
   "cell_type": "code",
   "execution_count": null,
   "id": "90e440f5-989d-485a-a52b-03cf9284ae89",
   "metadata": {},
   "outputs": [],
   "source": [
    "col_names = ['K', 'elr', 'coff_t0', 'coff_size', 'coff_ent', 'Skip', 'AUC', 'Fidelity', 'Sparsity']"
   ]
  },
  {
   "cell_type": "code",
   "execution_count": null,
   "id": "e436013a-bd2f-4c64-84d0-7601eb3ae868",
   "metadata": {},
   "outputs": [],
   "source": [
    "df = pd.read_csv(file_name)\n",
    "df.head()"
   ]
  },
  {
   "cell_type": "code",
   "execution_count": null,
   "id": "d0a96cb4-76b2-48ce-8b60-904fb81541f0",
   "metadata": {},
   "outputs": [],
   "source": [
    "p = bokeh.plotting.figure(\n",
    "    width=400,\n",
    "    height=300,\n",
    "    x_axis_label=\"AUC\",\n",
    "    y_axis_label=\"Fidelity\",\n",
    ")\n",
    "p.circle(\n",
    "    source=df,\n",
    "    x=\"AUC\",\n",
    "    y=\"Fidelity\"\n",
    ")\n",
    "bokeh.io.show(p)"
   ]
  },
  {
   "cell_type": "code",
   "execution_count": null,
   "id": "9980079b-69e1-40b7-aed3-f1a4999d07aa",
   "metadata": {},
   "outputs": [],
   "source": [
    "p = bokeh.plotting.figure(\n",
    "    width=400,\n",
    "    height=300,\n",
    "    x_axis_label=\"AUC\",\n",
    "    y_axis_label=\"Sparsity\",\n",
    ")\n",
    "p.circle(\n",
    "    source=df,\n",
    "    x=\"AUC\",\n",
    "    y=\"Sparsity\"\n",
    ")\n",
    "bokeh.io.show(p)"
   ]
  },
  {
   "cell_type": "code",
   "execution_count": null,
   "id": "a5dab2c2-8546-48aa-9f25-b8ba5c81211e",
   "metadata": {},
   "outputs": [],
   "source": [
    "p = bokeh.plotting.figure(\n",
    "    width=400,\n",
    "    height=300,\n",
    "    x_axis_label=\"Sparsity\",\n",
    "    y_axis_label=\"Fidelity\",\n",
    ")\n",
    "p.circle(\n",
    "    source=df,\n",
    "    x=\"Sparsity\",\n",
    "    y=\"Fidelity\"\n",
    ")\n",
    "bokeh.io.show(p)"
   ]
  },
  {
   "cell_type": "code",
   "execution_count": null,
   "id": "8011c67c-f2bb-48e1-8f50-7af5a2c6e434",
   "metadata": {},
   "outputs": [],
   "source": [
    "p = iqplot.stripbox(\n",
    "    data=df,\n",
    "    q=\"AUC\",\n",
    "    cats=\"K\",\n",
    "    spread=\"jitter\",\n",
    ")\n",
    "bokeh.io.show(p)"
   ]
  },
  {
   "cell_type": "code",
   "execution_count": null,
   "id": "b23e17cf-5e05-4040-a87f-c86959cc5ba2",
   "metadata": {},
   "outputs": [],
   "source": [
    "p = iqplot.stripbox(\n",
    "    data=df,\n",
    "    q=\"Fidelity\",\n",
    "    cats=\"K\",\n",
    "    spread=\"jitter\",\n",
    ")\n",
    "bokeh.io.show(p)"
   ]
  },
  {
   "cell_type": "code",
   "execution_count": null,
   "id": "8d2fbf82-596c-4ca6-b73f-66cbc07df388",
   "metadata": {},
   "outputs": [],
   "source": [
    "p = iqplot.stripbox(\n",
    "    data=df,\n",
    "    q=\"Sparsity\",\n",
    "    cats=\"K\",\n",
    "    spread=\"jitter\",\n",
    ")\n",
    "bokeh.io.show(p)"
   ]
  },
  {
   "cell_type": "code",
   "execution_count": null,
   "id": "0695dd7a-87e2-44f7-816f-65e3e4112ec4",
   "metadata": {},
   "outputs": [],
   "source": [
    "p = iqplot.stripbox(\n",
    "    data=df,\n",
    "    q=\"AUC\",\n",
    "    cats=\"elr\",\n",
    "    spread=\"jitter\",\n",
    ")\n",
    "bokeh.io.show(p)"
   ]
  },
  {
   "cell_type": "code",
   "execution_count": null,
   "id": "0409aae1-2927-4a54-8f7f-546d07a2480a",
   "metadata": {},
   "outputs": [],
   "source": [
    "p = iqplot.stripbox(\n",
    "    data=df,\n",
    "    q=\"Fidelity\",\n",
    "    cats=\"elr\",\n",
    "    spread=\"jitter\",\n",
    ")\n",
    "bokeh.io.show(p)"
   ]
  },
  {
   "cell_type": "code",
   "execution_count": null,
   "id": "c1b59bc5-e6dc-4f77-aab5-4d085b76672b",
   "metadata": {},
   "outputs": [],
   "source": [
    "p = iqplot.stripbox(\n",
    "    data=df,\n",
    "    q=\"Sparsity\",\n",
    "    cats=\"elr\",\n",
    "    spread=\"jitter\",\n",
    ")\n",
    "bokeh.io.show(p)"
   ]
  },
  {
   "cell_type": "code",
   "execution_count": null,
   "id": "dec75f76-6705-41d6-86de-38eeae9a7752",
   "metadata": {},
   "outputs": [],
   "source": [
    "p = iqplot.stripbox(\n",
    "    data=df,\n",
    "    q=\"AUC\",\n",
    "    cats=\"coff_t0\",\n",
    "    spread=\"jitter\",\n",
    ")\n",
    "bokeh.io.show(p)"
   ]
  },
  {
   "cell_type": "code",
   "execution_count": null,
   "id": "b252b6a1-bbfd-45bf-95e5-1ea4a44782bb",
   "metadata": {},
   "outputs": [],
   "source": [
    "p = iqplot.stripbox(\n",
    "    data=df,\n",
    "    q=\"Fidelity\",\n",
    "    cats=\"coff_t0\",\n",
    "    spread=\"jitter\",\n",
    ")\n",
    "bokeh.io.show(p)"
   ]
  },
  {
   "cell_type": "code",
   "execution_count": null,
   "id": "3769d9d9-d151-4cea-b0c7-62a504284899",
   "metadata": {},
   "outputs": [],
   "source": [
    "p = iqplot.stripbox(\n",
    "    data=df,\n",
    "    q=\"Sparsity\",\n",
    "    cats=\"coff_t0\",\n",
    "    spread=\"jitter\",\n",
    ")\n",
    "bokeh.io.show(p)"
   ]
  },
  {
   "cell_type": "code",
   "execution_count": null,
   "id": "f6b28e18-b1cd-4c74-8daa-da22e7c8b539",
   "metadata": {},
   "outputs": [],
   "source": [
    "p = iqplot.stripbox(\n",
    "    data=df,\n",
    "    q=\"AUC\",\n",
    "    cats=\"coff_size\",\n",
    "    spread=\"jitter\",\n",
    ")\n",
    "bokeh.io.show(p)"
   ]
  },
  {
   "cell_type": "code",
   "execution_count": null,
   "id": "f69c0ebf-fab8-4705-967c-c66b5f78e659",
   "metadata": {},
   "outputs": [],
   "source": [
    "p = iqplot.stripbox(\n",
    "    data=df,\n",
    "    q=\"Fidelity\",\n",
    "    cats=\"coff_size\",\n",
    "    spread=\"jitter\",\n",
    ")\n",
    "bokeh.io.show(p)"
   ]
  },
  {
   "cell_type": "code",
   "execution_count": null,
   "id": "f5f9d211-8a2b-4ea0-8175-d74147c7ea7a",
   "metadata": {},
   "outputs": [],
   "source": [
    "p = iqplot.stripbox(\n",
    "    data=df,\n",
    "    q=\"Sparsity\",\n",
    "    cats=\"coff_size\",\n",
    "    spread=\"jitter\",\n",
    ")\n",
    "bokeh.io.show(p)"
   ]
  },
  {
   "cell_type": "code",
   "execution_count": null,
   "id": "9fd84054-59fe-485b-ba09-8d4f93a17990",
   "metadata": {},
   "outputs": [],
   "source": [
    "p = iqplot.stripbox(\n",
    "    data=df,\n",
    "    q=\"AUC\",\n",
    "    cats=\"coff_ent\",\n",
    "    spread=\"jitter\",\n",
    ")\n",
    "bokeh.io.show(p)"
   ]
  },
  {
   "cell_type": "code",
   "execution_count": null,
   "id": "2a800a28-812d-4722-b6f4-9ba109017b37",
   "metadata": {},
   "outputs": [],
   "source": [
    "p = iqplot.stripbox(\n",
    "    data=df,\n",
    "    q=\"Fidelity\",\n",
    "    cats=\"coff_ent\",\n",
    "    spread=\"jitter\",\n",
    ")\n",
    "bokeh.io.show(p)"
   ]
  },
  {
   "cell_type": "code",
   "execution_count": null,
   "id": "2373bc37-605b-4c88-ae54-836ba6c51a7e",
   "metadata": {},
   "outputs": [],
   "source": [
    "p = iqplot.stripbox(\n",
    "    data=df,\n",
    "    q=\"Sparsity\",\n",
    "    cats=\"coff_ent\",\n",
    "    spread=\"jitter\",\n",
    ")\n",
    "bokeh.io.show(p)"
   ]
  },
  {
   "cell_type": "code",
   "execution_count": null,
   "id": "b596c747-22c6-47dd-9eb1-3e38713ef2ab",
   "metadata": {},
   "outputs": [],
   "source": [
    "p = iqplot.stripbox(\n",
    "    data=df,\n",
    "    q=\"AUC\",\n",
    "    cats=\"Skip\",\n",
    "    spread=\"jitter\",\n",
    ")\n",
    "bokeh.io.show(p)"
   ]
  },
  {
   "cell_type": "code",
   "execution_count": null,
   "id": "69ce5099-e9ef-4f36-a106-27f77da9f9d7",
   "metadata": {},
   "outputs": [],
   "source": [
    "p = iqplot.stripbox(\n",
    "    data=df,\n",
    "    q=\"Fidelity\",\n",
    "    cats=\"Skip\",\n",
    "    spread=\"jitter\",\n",
    ")\n",
    "bokeh.io.show(p)"
   ]
  },
  {
   "cell_type": "code",
   "execution_count": null,
   "id": "8345c969-5d8e-403c-a842-11ca94fb0050",
   "metadata": {},
   "outputs": [],
   "source": [
    "p = iqplot.stripbox(\n",
    "    data=df,\n",
    "    q=\"Sparsity\",\n",
    "    cats=\"Skip\",\n",
    "    spread=\"jitter\",\n",
    ")\n",
    "bokeh.io.show(p)"
   ]
  }
 ],
 "metadata": {
  "kernelspec": {
   "display_name": "Python 3 (ipykernel)",
   "language": "python",
   "name": "python3"
  },
  "language_info": {
   "codemirror_mode": {
    "name": "ipython",
    "version": 3
   },
   "file_extension": ".py",
   "mimetype": "text/x-python",
   "name": "python",
   "nbconvert_exporter": "python",
   "pygments_lexer": "ipython3",
   "version": "3.9.12"
  }
 },
 "nbformat": 4,
 "nbformat_minor": 5
}
