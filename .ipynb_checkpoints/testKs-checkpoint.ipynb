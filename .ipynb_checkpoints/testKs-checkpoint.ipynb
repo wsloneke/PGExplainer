{
 "cells": [
  {
   "cell_type": "code",
   "execution_count": null,
   "id": "9b6b05f2-b4ea-429b-99c5-c69c04e809a3",
   "metadata": {},
   "outputs": [],
   "source": [
    "import sys\n",
    "import os\n",
    "from scipy.sparse import load_npz\n",
    "sys.path.append('./codes/forgraph/')\n",
    "from config import args\n",
    "from sklearn.metrics import roc_auc_score\n",
    "from models import GCN\n",
    "from metrics import *\n",
    "import numpy as np\n",
    "from Explainer import Explainer\n",
    "import scipy\n",
    "#import torch_geometric\n",
    "from scipy.sparse import coo_matrix,csr_matrix\n",
    "import pickle as pkl\n",
    "import csv\n",
    "import torch"
   ]
  },
  {
   "cell_type": "code",
   "execution_count": null,
   "id": "4fe9cbf1-fdff-48f7-8496-5edf1f430f72",
   "metadata": {},
   "outputs": [],
   "source": [
    "def acc(adj,insert):\n",
    "    mask = explainer.masked_adj.numpy()\n",
    "    adj = coo_matrix(adj)\n",
    "    for r,c in list(zip(adj.row,adj.col)):\n",
    "        if r>=insert and r<insert+skip and c>=insert and c<insert+skip:\n",
    "            reals.append(1)\n",
    "        else:\n",
    "            reals.append(0)\n",
    "        preds.append(mask[r][c])\n",
    "        \n",
    "def explain_graph(gid):\n",
    "    fea,emb,adj,label,graphid = features[gid], embs[gid], adjs[gid], labels[gid], gid\n",
    "    explainer((fea,emb,adj,1.0,label))\n",
    "    insert = 20\n",
    "    acc(adj,insert)\n",
    "    \n",
    "def test():\n",
    "    global preds\n",
    "    global reals\n",
    "    preds = []\n",
    "    reals = []\n",
    "    for gid in allnodes:\n",
    "        explain_graph(gid)\n",
    "    auc = roc_auc_score(reals,preds)\n",
    "    subset_acc = auc\n",
    "    all_node_acc = roc_auc_score(reals, allnodes)\n",
    "    fidelity = all_node_acc - subset_acc\n",
    "    subset_nodes = len(preds)\n",
    "    all_nodes = len(allnodes)\n",
    "    sparsity = 1 - subset_nodes / all_nodes\n",
    "    return auc, fidelity, sparsity\n",
    "\n",
    "def train(epochs):\n",
    "    t0 = args.coff_t0\n",
    "    t1 = args.coff_te\n",
    "\n",
    "    for epoch in range(epochs): \n",
    "        loss = 0\n",
    "        tmp = float(t0 * np.power(t1 / t0, epoch /epochs))\n",
    "        train_instances = [ins for ins in range(len(model.values()))]\n",
    "        np.random.shuffle(train_instances)\n",
    "        for gid in train_instances:\n",
    "            with tf.GradientTape() as tape:\n",
    "                pred = explainer((features[gid],embs[gid],adjs[gid],tmp, labels[gid]),training=True)\n",
    "                loss += explainer.loss(pred, labels[gid])\n",
    "        train_variables = [para for para in explainer.trainable_variables]\n",
    "        grads = tape.gradient(loss, train_variables)\n",
    "        optimizer.apply_gradients(zip(grads, train_variables))"
   ]
  },
  {
   "cell_type": "code",
   "execution_count": null,
   "id": "3620028e-6cf3-4157-bf0c-6836045dcc0d",
   "metadata": {},
   "outputs": [],
   "source": [
    "# file = 'actual data/src/data/E116/saved_runs/model_2020-12-17-at-19-24-36.pt'\n",
    "#file = 'actual data/src/data/E116/df_genes.pkl'\n",
    "#model = torch()\n",
    "#model.load_state_dict(torch.load(file))\n",
    "# model = torch.load(file, map_location=torch.device('cpu'))"
   ]
  },
  {
   "cell_type": "code",
   "execution_count": null,
   "id": "1b9783cb-262d-44e0-a5b2-d32dfd394202",
   "metadata": {},
   "outputs": [],
   "source": [
    "cell_line = 'E116'\n",
    "base_path = 'actual data/src/data'\n",
    "hic_sparse_mat_file = os.path.join(base_path, cell_line, 'hic_sparse.npz')\n",
    "np_nodes_lab_genes_file = os.path.join(base_path, cell_line, 'np_nodes_lab_genes.npy')\n",
    "np_hmods_norm_all_file = os.path.join(base_path, cell_line, 'np_hmods_norm.npy') \n",
    "df_genes_file = os.path.join(base_path, cell_line, 'df_genes.pkl')\n",
    "df_genes = pd.read_pickle(df_genes_file)"
   ]
  },
  {
   "cell_type": "code",
   "execution_count": null,
   "id": "be1496b2-daf1-4e87-80e4-7aea27c1fbd7",
   "metadata": {},
   "outputs": [],
   "source": [
    "df_genes"
   ]
  },
  {
   "cell_type": "code",
   "execution_count": null,
   "id": "1f5c364f-ab3f-4366-97ce-e34129d47c91",
   "metadata": {},
   "outputs": [],
   "source": [
    "mat = load_npz(hic_sparse_mat_file)\n",
    "allNodes_hms = np.load(np_hmods_norm_all_file)\n",
    "hms = allNodes_hms[:, 1:] #only includes features, not node ids\n",
    "allNodes = allNodes_hms[:, 0].astype(int)\n",
    "geneNodes_labs = np.load(np_nodes_lab_genes_file)\n",
    "geneNodes = geneNodes_labs[:, -2].astype(int)\n",
    "geneLabs = geneNodes_labs[:, -1].astype(int)"
   ]
  },
  {
   "cell_type": "code",
   "execution_count": null,
   "id": "b7a456bc-7d35-4b68-885d-e14cfa45eccf",
   "metadata": {},
   "outputs": [],
   "source": [
    "allLabs = 2*np.ones(np.shape(allNodes))\n",
    "allLabs[geneNodes] = geneLabs"
   ]
  },
  {
   "cell_type": "code",
   "execution_count": null,
   "id": "f9209a26-69dc-448d-87ae-c9958422bf16",
   "metadata": {},
   "outputs": [],
   "source": [
    "features = hms\n",
    "adjs = mat\n",
    "labels = allLabs"
   ]
  },
  {
   "cell_type": "code",
   "execution_count": null,
   "id": "61a27337-c20e-4196-a6a4-9aee4c7b06b9",
   "metadata": {},
   "outputs": [],
   "source": [
    "all_nodes = len(labels)"
   ]
  },
  {
   "cell_type": "code",
   "execution_count": null,
   "id": "b9552298-06a2-4520-88c6-7f4b2a9a860d",
   "metadata": {},
   "outputs": [],
   "source": [
    "print(features.shape)\n",
    "print(labels.shape)\n",
    "print(adjs.shape)\n",
    "print(features.shape[-1])"
   ]
  },
  {
   "cell_type": "code",
   "execution_count": null,
   "id": "3b73685e-092d-4a30-8bcc-37a562cdfeb1",
   "metadata": {},
   "outputs": [],
   "source": [
    "rows = features.shape[0]\n",
    "cols_f = features.shape[1]\n",
    "cols_a = adjs.shape[1]\n",
    "a = []\n",
    "for i in range(0, rows):\n",
    "    lst = []\n",
    "    for j in range(0, cols_f):\n",
    "        lst.append(features[i, j])\n",
    "    for j in range(0, cols_a):\n",
    "        lst.append(adjs[i, j])\n",
    "    a.append(lst)\n",
    "arr = np.array(a)\n",
    "arr.shape"
   ]
  },
  {
   "cell_type": "code",
   "execution_count": null,
   "id": "afd20c97-9f5d-44ae-9dd6-84f70a3310f2",
   "metadata": {},
   "outputs": [],
   "source": [
    "embs = tf.convert_to_tensor(arr, dtype=tf.float32)"
   ]
  },
  {
   "cell_type": "code",
   "execution_count": null,
   "id": "843859f6-1675-42ee-b3ee-595aa7c08005",
   "metadata": {},
   "outputs": [],
   "source": [
    "model = GCN(input_dim = adjs.shape[-1], output_dim = labels.shape[0])\n",
    "# embs = model.getNodeEmb((tf.convert_to_tensor(features,dtype=tf.float32),\\\n",
    "#                                tf.convert_to_tensor(scipy.sparse.csr_matrix.getnnz(adjs),dtype=tf.float32)), training=False)\n",
    "# outputs = model.call((tf.convert_to_tensor(features,dtype=tf.float32),\\\n",
    "#                             tf.convert_to_tensor(scipy.sparse.csr_matrix.getnnz(adjs),dtype=tf.float32)),training=False)\n",
    "outputs = model.call(embs)\n",
    "pred_label = tf.argmax(outputs, 1)\n",
    "acc = accuracy(outputs, labels)\n",
    "print('model acc',acc.numpy())"
   ]
  },
  {
   "cell_type": "code",
   "execution_count": null,
   "id": "9a4bf14f-3c76-4fc5-975f-9437cca93b39",
   "metadata": {},
   "outputs": [],
   "source": [
    "# embs = model.getNodeEmb((tf.convert_to_tensor(features,dtype=tf.float32),\\\n",
    "#                                tf.convert_to_tensor(adjs,dtype=tf.float32)), training=False)\n",
    "rows = features.shape[0]\n",
    "cols_f = features.shape[1]\n",
    "cols_a = adjs.shape[1]\n",
    "a = []\n",
    "for i in range(0, rows):\n",
    "    lst = []\n",
    "    for j in range(0, cols_f):\n",
    "        lst.append(features[i, j])\n",
    "    for j in range(0, cols_a):\n",
    "        lst.append(adjs[i, j])\n",
    "    a.append(lst)\n",
    "arr = np.array(a)\n",
    "embs = tf.convert_to_tensor(arr, dtype=tf.float32)\n",
    "outputs = model.call(embs),training=False)\n",
    "pred_label = tf.argmax(outputs, 1)"
   ]
  },
  {
   "cell_type": "code",
   "execution_count": null,
   "id": "bb64abbb-55fc-4e2a-90f3-a8fac46ba1d8",
   "metadata": {},
   "outputs": [],
   "source": [
    "# if args.setting==1:\n",
    "#     allnodes = [i for i in range(0,100)]\n",
    "# elif args.setting==2:\n",
    "#     allnodes = [i for i in range(0,100)]\n",
    "#     allnodes.extend([i for i in range(500,600)])\n",
    "# elif args.setting==3:\n",
    "#     allnodes=[i for i in range(1000)]\n",
    "# explainer = Explainer(model=model,nodesize=len(model.values()))"
   ]
  },
  {
   "cell_type": "code",
   "execution_count": null,
   "id": "bd2b1329-4c3b-4a7a-9722-0e1caa0c847c",
   "metadata": {},
   "outputs": [],
   "source": [
    "top_k = [i for i in range(0, 26)]\n",
    "all_elr = [i for i in range(0, 26)]\n",
    "coff_t0 = [i for i in range(1, 26)]\n",
    "coff_size = [i for i in range(0, 26)]\n",
    "coff_ent = [i for i in range(0, 26)]\n",
    "skp = [i for i in range(0, 26)]\n",
    "epochs = [i for i in range(250, 650, 50)]"
   ]
  },
  {
   "cell_type": "code",
   "execution_count": null,
   "id": "358a7e11-911b-45fb-9582-fd46f66b0cf6",
   "metadata": {},
   "outputs": [],
   "source": [
    "epochs"
   ]
  },
  {
   "cell_type": "code",
   "execution_count": null,
   "id": "607237d5-13a6-4721-bc0e-39dbad8c0310",
   "metadata": {},
   "outputs": [],
   "source": [
    "rows = []"
   ]
  },
  {
   "cell_type": "markdown",
   "id": "f85cb76f-90d7-4ecf-b3c8-f57c22443da0",
   "metadata": {},
   "source": [
    "\"Fidelity metric measures whether the explanations are faithfully important to the model’s predictions. It removes the important structures from the input graphs and computes the difference between predictions. In addition, the Sparsity metric measures the fraction of structures that are identified as important by explanation methods.\""
   ]
  },
  {
   "cell_type": "code",
   "execution_count": null,
   "id": "1cbc6432-29f4-47a7-8c59-acdcd57050ce",
   "metadata": {},
   "outputs": [],
   "source": [
    "for k in top_k:\n",
    "    topk = k\n",
    "    for elr in all_elr:\n",
    "        args.elr = elr\n",
    "        optimizer = tf.keras.optimizers.Adam(learning_rate=args.elr)\n",
    "        for c in coff_t0:\n",
    "            args.coff_t0 = c\n",
    "            for s in coff_size:\n",
    "                args.coff_size = s\n",
    "                for en in coff_ent:\n",
    "                    args.coff_ent = en\n",
    "                    for sk in skp:\n",
    "                        skip = sk\n",
    "                        for ep in epochs:\n",
    "                            train(ep)\n",
    "                            auc, fidelity, sparsity = test()\n",
    "                            row = [k, elr, c, en, sk, ep, auc, fidelity, sparsity]\n",
    "                            rows.append(row)"
   ]
  },
  {
   "cell_type": "code",
   "execution_count": null,
   "id": "216ab906-fcbc-4fab-9d66-bf1a4a399bba",
   "metadata": {},
   "outputs": [],
   "source": [
    "col_names = ['K', 'elr', 'coff_t0', 'coff_size', 'coff_ent', 'Skip', 'AUC', 'Fidelity', 'Sparsity']\n",
    "filename = 'results.csv'\n",
    "with open('results.csv', 'w') as f: \n",
    "    write = csv.writer(f) \n",
    "    write.writerow(col_names) \n",
    "    write.writerows(rows) "
   ]
  }
 ],
 "metadata": {
  "kernelspec": {
   "display_name": "Python 3 (ipykernel)",
   "language": "python",
   "name": "python3"
  },
  "language_info": {
   "codemirror_mode": {
    "name": "ipython",
    "version": 3
   },
   "file_extension": ".py",
   "mimetype": "text/x-python",
   "name": "python",
   "nbconvert_exporter": "python",
   "pygments_lexer": "ipython3",
   "version": "3.9.12"
  }
 },
 "nbformat": 4,
 "nbformat_minor": 5
}
