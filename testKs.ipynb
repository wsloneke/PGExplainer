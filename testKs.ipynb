{
 "cells": [
  {
   "cell_type": "code",
   "execution_count": 1,
   "id": "9b6b05f2-b4ea-429b-99c5-c69c04e809a3",
   "metadata": {},
   "outputs": [],
   "source": [
    "import sys\n",
    "import os\n",
    "from scipy.sparse import load_npz\n",
    "sys.path.append('./codes/forgraph/')\n",
    "from config import args\n",
    "from sklearn.metrics import roc_auc_score\n",
    "from models import GCN\n",
    "from metrics import *\n",
    "import numpy as np\n",
    "import pandas as pd\n",
    "import scipy\n",
    "#import torch_geometric\n",
    "from scipy.sparse import coo_matrix,csr_matrix\n",
    "import pickle as pkl\n",
    "import csv\n",
    "import torch\n",
    "from Explainer import Explainer"
   ]
  },
  {
   "cell_type": "code",
   "execution_count": 2,
   "id": "4fe9cbf1-fdff-48f7-8496-5edf1f430f72",
   "metadata": {},
   "outputs": [],
   "source": [
    "def acc(adj,insert):\n",
    "    mask = explainer.masked_adj.numpy()\n",
    "    adj = coo_matrix(adj)\n",
    "    for r,c in list(zip(adj.row,adj.col)):\n",
    "        if r>=insert and r<insert+skip and c>=insert and c<insert+skip:\n",
    "            reals.append(1)\n",
    "        else:\n",
    "            reals.append(0)\n",
    "        preds.append(mask[r][c])\n",
    "        \n",
    "def explain_graph(gid):\n",
    "    fea,emb,adj,label,graphid = features[gid], embs[gid], adjs[gid], labels[gid], gid\n",
    "    explainer((fea,emb,adj,1.0,label))\n",
    "    insert = 20\n",
    "    acc(adj,insert)\n",
    "    \n",
    "def test():\n",
    "    global preds\n",
    "    global reals\n",
    "    preds = []\n",
    "    reals = []\n",
    "    for gid in allnodes:\n",
    "        explain_graph(gid)\n",
    "    auc = roc_auc_score(reals,preds)\n",
    "    subset_acc = auc\n",
    "    all_node_acc = roc_auc_score(reals, allnodes)\n",
    "    fidelity = all_node_acc - subset_acc\n",
    "    subset_nodes = len(preds)\n",
    "    all_nodes = len(allnodes)\n",
    "    sparsity = 1 - subset_nodes / all_nodes\n",
    "    return auc, fidelity, sparsity\n",
    "\n",
    "def train(epochs):\n",
    "    t0 = args.coff_t0\n",
    "    t1 = args.coff_te\n",
    "\n",
    "    for epoch in range(epochs): \n",
    "        loss = 0\n",
    "        tmp = float(t0 * np.power(t1 / t0, epoch /epochs))\n",
    "        train_instances = [ins for ins in range(len(model.values()))]\n",
    "        np.random.shuffle(train_instances)\n",
    "        for gid in train_instances:\n",
    "            with tf.GradientTape() as tape:\n",
    "                pred = explainer((features[gid],embs[gid],adjs[gid],tmp, labels[gid]),training=True)\n",
    "                loss += explainer.loss(pred, labels[gid])\n",
    "        train_variables = [para for para in explainer.trainable_variables]\n",
    "        grads = tape.gradient(loss, train_variables)\n",
    "        optimizer.apply_gradients(zip(grads, train_variables))"
   ]
  },
  {
   "cell_type": "code",
   "execution_count": 3,
   "id": "3620028e-6cf3-4157-bf0c-6836045dcc0d",
   "metadata": {},
   "outputs": [],
   "source": [
    "# file = 'actual data/src/data/E116/saved_runs/model_2020-12-17-at-19-24-36.pt'\n",
    "#file = 'actual data/src/data/E116/df_genes.pkl'\n",
    "#model = torch()\n",
    "#model.load_state_dict(torch.load(file))\n",
    "# model = torch.load(file, map_location=torch.device('cpu'))"
   ]
  },
  {
   "cell_type": "code",
   "execution_count": 4,
   "id": "1b9783cb-262d-44e0-a5b2-d32dfd394202",
   "metadata": {},
   "outputs": [],
   "source": [
    "cell_line = 'E116'\n",
    "base_path = 'actual data/src/data'\n",
    "hic_sparse_mat_file = os.path.join(base_path, cell_line, 'hic_sparse.npz')\n",
    "np_nodes_lab_genes_file = os.path.join(base_path, cell_line, 'np_nodes_lab_genes.npy')\n",
    "np_hmods_norm_all_file = os.path.join(base_path, cell_line, 'np_hmods_norm.npy') \n",
    "df_genes_file = os.path.join(base_path, cell_line, 'df_genes.pkl')\n",
    "df_genes = pd.read_pickle(df_genes_file)"
   ]
  },
  {
   "cell_type": "code",
   "execution_count": 5,
   "id": "be1496b2-daf1-4e87-80e4-7aea27c1fbd7",
   "metadata": {},
   "outputs": [
    {
     "data": {
      "text/html": [
       "<div>\n",
       "<style scoped>\n",
       "    .dataframe tbody tr th:only-of-type {\n",
       "        vertical-align: middle;\n",
       "    }\n",
       "\n",
       "    .dataframe tbody tr th {\n",
       "        vertical-align: top;\n",
       "    }\n",
       "\n",
       "    .dataframe thead th {\n",
       "        text-align: right;\n",
       "    }\n",
       "</style>\n",
       "<table border=\"1\" class=\"dataframe\">\n",
       "  <thead>\n",
       "    <tr style=\"text-align: right;\">\n",
       "      <th></th>\n",
       "      <th>gene_catalog_name</th>\n",
       "      <th>abbrev</th>\n",
       "      <th>hic_node_id</th>\n",
       "      <th>expression_lvl</th>\n",
       "      <th>connected</th>\n",
       "    </tr>\n",
       "  </thead>\n",
       "  <tbody>\n",
       "    <tr>\n",
       "      <th>0</th>\n",
       "      <td>ENSG00000237613</td>\n",
       "      <td>FAM138A</td>\n",
       "      <td>3</td>\n",
       "      <td>0</td>\n",
       "      <td>1.0</td>\n",
       "    </tr>\n",
       "    <tr>\n",
       "      <th>1</th>\n",
       "      <td>ENSG00000186092</td>\n",
       "      <td>OR4F5</td>\n",
       "      <td>6</td>\n",
       "      <td>0</td>\n",
       "      <td>1.0</td>\n",
       "    </tr>\n",
       "    <tr>\n",
       "      <th>2</th>\n",
       "      <td>ENSG00000235249</td>\n",
       "      <td>OR4F29</td>\n",
       "      <td>36</td>\n",
       "      <td>0</td>\n",
       "      <td>1.0</td>\n",
       "    </tr>\n",
       "    <tr>\n",
       "      <th>3</th>\n",
       "      <td>ENSG00000185097</td>\n",
       "      <td>OR4F16</td>\n",
       "      <td>62</td>\n",
       "      <td>0</td>\n",
       "      <td>1.0</td>\n",
       "    </tr>\n",
       "    <tr>\n",
       "      <th>4</th>\n",
       "      <td>ENSG00000197049</td>\n",
       "      <td>NaN</td>\n",
       "      <td>72</td>\n",
       "      <td>1</td>\n",
       "      <td>1.0</td>\n",
       "    </tr>\n",
       "    <tr>\n",
       "      <th>...</th>\n",
       "      <td>...</td>\n",
       "      <td>...</td>\n",
       "      <td>...</td>\n",
       "      <td>...</td>\n",
       "      <td>...</td>\n",
       "    </tr>\n",
       "    <tr>\n",
       "      <th>384</th>\n",
       "      <td>ENSG00000100288</td>\n",
       "      <td>CHKB</td>\n",
       "      <td>279585</td>\n",
       "      <td>0</td>\n",
       "      <td>1.0</td>\n",
       "    </tr>\n",
       "    <tr>\n",
       "      <th>385</th>\n",
       "      <td>ENSG00000100299</td>\n",
       "      <td>ARSA</td>\n",
       "      <td>279588</td>\n",
       "      <td>1</td>\n",
       "      <td>1.0</td>\n",
       "    </tr>\n",
       "    <tr>\n",
       "      <th>386</th>\n",
       "      <td>ENSG00000251322</td>\n",
       "      <td>SHANK3</td>\n",
       "      <td>279593</td>\n",
       "      <td>0</td>\n",
       "      <td>1.0</td>\n",
       "    </tr>\n",
       "    <tr>\n",
       "      <th>387</th>\n",
       "      <td>ENSG00000100312</td>\n",
       "      <td>ACR</td>\n",
       "      <td>279599</td>\n",
       "      <td>0</td>\n",
       "      <td>1.0</td>\n",
       "    </tr>\n",
       "    <tr>\n",
       "      <th>388</th>\n",
       "      <td>ENSG00000079974</td>\n",
       "      <td>RABL2B</td>\n",
       "      <td>279604</td>\n",
       "      <td>1</td>\n",
       "      <td>1.0</td>\n",
       "    </tr>\n",
       "  </tbody>\n",
       "</table>\n",
       "<p>16699 rows × 5 columns</p>\n",
       "</div>"
      ],
      "text/plain": [
       "    gene_catalog_name   abbrev  hic_node_id  expression_lvl  connected\n",
       "0     ENSG00000237613  FAM138A            3               0        1.0\n",
       "1     ENSG00000186092    OR4F5            6               0        1.0\n",
       "2     ENSG00000235249   OR4F29           36               0        1.0\n",
       "3     ENSG00000185097   OR4F16           62               0        1.0\n",
       "4     ENSG00000197049      NaN           72               1        1.0\n",
       "..                ...      ...          ...             ...        ...\n",
       "384   ENSG00000100288     CHKB       279585               0        1.0\n",
       "385   ENSG00000100299     ARSA       279588               1        1.0\n",
       "386   ENSG00000251322   SHANK3       279593               0        1.0\n",
       "387   ENSG00000100312      ACR       279599               0        1.0\n",
       "388   ENSG00000079974   RABL2B       279604               1        1.0\n",
       "\n",
       "[16699 rows x 5 columns]"
      ]
     },
     "execution_count": 5,
     "metadata": {},
     "output_type": "execute_result"
    }
   ],
   "source": [
    "df_genes"
   ]
  },
  {
   "cell_type": "code",
   "execution_count": 6,
   "id": "1f5c364f-ab3f-4366-97ce-e34129d47c91",
   "metadata": {},
   "outputs": [],
   "source": [
    "mat = load_npz(hic_sparse_mat_file)\n",
    "allNodes_hms = np.load(np_hmods_norm_all_file)\n",
    "hms = allNodes_hms[:, 1:] #only includes features, not node ids\n",
    "allNodes = allNodes_hms[:, 0].astype(int)\n",
    "geneNodes_labs = np.load(np_nodes_lab_genes_file)\n",
    "geneNodes = geneNodes_labs[:, -2].astype(int)\n",
    "geneLabs = geneNodes_labs[:, -1].astype(int)"
   ]
  },
  {
   "cell_type": "code",
   "execution_count": 7,
   "id": "b7a456bc-7d35-4b68-885d-e14cfa45eccf",
   "metadata": {},
   "outputs": [],
   "source": [
    "allLabs = 2*np.ones(np.shape(allNodes))\n",
    "allLabs[geneNodes] = geneLabs"
   ]
  },
  {
   "cell_type": "code",
   "execution_count": 8,
   "id": "f9209a26-69dc-448d-87ae-c9958422bf16",
   "metadata": {},
   "outputs": [],
   "source": [
    "features = hms\n",
    "adjs = mat\n",
    "labels = allLabs"
   ]
  },
  {
   "cell_type": "code",
   "execution_count": 9,
   "id": "61a27337-c20e-4196-a6a4-9aee4c7b06b9",
   "metadata": {},
   "outputs": [],
   "source": [
    "all_nodes = len(labels)"
   ]
  },
  {
   "cell_type": "code",
   "execution_count": 10,
   "id": "9976740d-912b-4cd6-b9b8-f193ca62ee26",
   "metadata": {},
   "outputs": [
    {
     "data": {
      "text/plain": [
       "279606"
      ]
     },
     "execution_count": 10,
     "metadata": {},
     "output_type": "execute_result"
    }
   ],
   "source": [
    "all_nodes"
   ]
  },
  {
   "cell_type": "code",
   "execution_count": 11,
   "id": "b9552298-06a2-4520-88c6-7f4b2a9a860d",
   "metadata": {},
   "outputs": [
    {
     "name": "stdout",
     "output_type": "stream",
     "text": [
      "(279606, 5)\n",
      "(279606,)\n",
      "(279606, 279606)\n",
      "5\n"
     ]
    }
   ],
   "source": [
    "print(features.shape)\n",
    "print(labels.shape)\n",
    "print(adjs.shape)\n",
    "print(features.shape[-1])"
   ]
  },
  {
   "cell_type": "code",
   "execution_count": 12,
   "id": "a81720aa-31c7-407f-b103-eee28049d996",
   "metadata": {},
   "outputs": [],
   "source": [
    "#features = scipy.sparse.csr_matrix(features)"
   ]
  },
  {
   "cell_type": "code",
   "execution_count": 36,
   "id": "38e98725-a47b-436e-92f8-4cc144587cae",
   "metadata": {},
   "outputs": [],
   "source": [
    "embs = scipy.sparse.hstack([features, adjs])"
   ]
  },
  {
   "cell_type": "code",
   "execution_count": 14,
   "id": "3b73685e-092d-4a30-8bcc-37a562cdfeb1",
   "metadata": {},
   "outputs": [],
   "source": [
    "#arr.shape"
   ]
  },
  {
   "cell_type": "code",
   "execution_count": 15,
   "id": "361590ae-7e4c-48d0-8322-dbfe1596783d",
   "metadata": {},
   "outputs": [],
   "source": [
    "#type(arr)"
   ]
  },
  {
   "cell_type": "code",
   "execution_count": 16,
   "id": "afd20c97-9f5d-44ae-9dd6-84f70a3310f2",
   "metadata": {},
   "outputs": [],
   "source": [
    "#embs = tf.convert_to_tensor(arr, dtype=tf.float32)"
   ]
  },
  {
   "cell_type": "code",
   "execution_count": 17,
   "id": "60d614c2-8913-476b-bafd-42ae45f67026",
   "metadata": {},
   "outputs": [],
   "source": [
    "# model = GCN(input_dim = adjs.shape[-1], output_dim = labels.shape[0])"
   ]
  },
  {
   "cell_type": "code",
   "execution_count": 18,
   "id": "e2e6ecad-557a-4379-be02-a9cf072e2c3f",
   "metadata": {},
   "outputs": [
    {
     "data": {
      "text/plain": [
       "(279606, 5)"
      ]
     },
     "execution_count": 18,
     "metadata": {},
     "output_type": "execute_result"
    }
   ],
   "source": [
    "features.shape"
   ]
  },
  {
   "cell_type": "code",
   "execution_count": 19,
   "id": "c42e0462-9ace-4245-bfff-ee29cb202e51",
   "metadata": {},
   "outputs": [
    {
     "data": {
      "text/plain": [
       "(279606, 279606)"
      ]
     },
     "execution_count": 19,
     "metadata": {},
     "output_type": "execute_result"
    }
   ],
   "source": [
    "adjs.shape"
   ]
  },
  {
   "cell_type": "code",
   "execution_count": 20,
   "id": "f00d85b9-c5bd-41f3-88f5-ed03b5d6a041",
   "metadata": {},
   "outputs": [
    {
     "data": {
      "text/plain": [
       "(5, 279606)"
      ]
     },
     "execution_count": 20,
     "metadata": {},
     "output_type": "execute_result"
    }
   ],
   "source": [
    "t = np.transpose(features)\n",
    "t.shape"
   ]
  },
  {
   "cell_type": "code",
   "execution_count": 21,
   "id": "97b4fbb5-1f9d-4310-a981-c9c3e911acdd",
   "metadata": {},
   "outputs": [
    {
     "data": {
      "text/plain": [
       "(5, 279606)"
      ]
     },
     "execution_count": 21,
     "metadata": {},
     "output_type": "execute_result"
    }
   ],
   "source": [
    "m = t * adjs\n",
    "m.shape"
   ]
  },
  {
   "cell_type": "code",
   "execution_count": 22,
   "id": "542c626a-152f-4112-9801-0939390ed11d",
   "metadata": {},
   "outputs": [
    {
     "data": {
      "text/plain": [
       "(279606, 5)"
      ]
     },
     "execution_count": 22,
     "metadata": {},
     "output_type": "execute_result"
    }
   ],
   "source": [
    "n = adjs * features\n",
    "n.shape"
   ]
  },
  {
   "cell_type": "code",
   "execution_count": 23,
   "id": "1724f249-ea3d-403f-9f40-d10720203b4d",
   "metadata": {},
   "outputs": [
    {
     "ename": "ValueError",
     "evalue": "matmul: Input operand 0 does not have enough dimensions (has 0, gufunc core with signature (n?,k),(k,m?)->(n?,m?) requires 1)",
     "output_type": "error",
     "traceback": [
      "\u001b[1;31m---------------------------------------------------------------------------\u001b[0m",
      "\u001b[1;31mValueError\u001b[0m                                Traceback (most recent call last)",
      "Input \u001b[1;32mIn [23]\u001b[0m, in \u001b[0;36m<cell line: 1>\u001b[1;34m()\u001b[0m\n\u001b[1;32m----> 1\u001b[0m \u001b[43mnp\u001b[49m\u001b[38;5;241;43m.\u001b[39;49m\u001b[43mmatmul\u001b[49m\u001b[43m(\u001b[49m\u001b[43madjs\u001b[49m\u001b[43m,\u001b[49m\u001b[43m \u001b[49m\u001b[43mfeatures\u001b[49m\u001b[43m)\u001b[49m\n",
      "\u001b[1;31mValueError\u001b[0m: matmul: Input operand 0 does not have enough dimensions (has 0, gufunc core with signature (n?,k),(k,m?)->(n?,m?) requires 1)"
     ]
    }
   ],
   "source": [
    "np.matmul(adjs, features)"
   ]
  },
  {
   "cell_type": "code",
   "execution_count": 25,
   "id": "c661e755-ec93-4d49-b3c2-3d87c80d4dd1",
   "metadata": {},
   "outputs": [
    {
     "ename": "ValueError",
     "evalue": "matmul: Input operand 1 does not have enough dimensions (has 0, gufunc core with signature (n?,k),(k,m?)->(n?,m?) requires 1)",
     "output_type": "error",
     "traceback": [
      "\u001b[1;31m---------------------------------------------------------------------------\u001b[0m",
      "\u001b[1;31mValueError\u001b[0m                                Traceback (most recent call last)",
      "Input \u001b[1;32mIn [25]\u001b[0m, in \u001b[0;36m<cell line: 1>\u001b[1;34m()\u001b[0m\n\u001b[1;32m----> 1\u001b[0m \u001b[43mnp\u001b[49m\u001b[38;5;241;43m.\u001b[39;49m\u001b[43mmatmul\u001b[49m\u001b[43m(\u001b[49m\u001b[43mfeatures\u001b[49m\u001b[43m,\u001b[49m\u001b[43m \u001b[49m\u001b[43madjs\u001b[49m\u001b[43m)\u001b[49m\n",
      "\u001b[1;31mValueError\u001b[0m: matmul: Input operand 1 does not have enough dimensions (has 0, gufunc core with signature (n?,k),(k,m?)->(n?,m?) requires 1)"
     ]
    }
   ],
   "source": [
    "np.matmul(features, adjs)"
   ]
  },
  {
   "cell_type": "code",
   "execution_count": 26,
   "id": "843859f6-1675-42ee-b3ee-595aa7c08005",
   "metadata": {},
   "outputs": [],
   "source": [
    "# model = GCN(input_dim = adjs.shape[-1], output_dim = labels.shape[0])\n",
    "# embs = model.getNodeEmb((tf.convert_to_tensor(features,dtype=tf.float32),\\\n",
    "#                                tf.convert_to_tensor(scipy.sparse.csr_matrix.getnnz(adjs),dtype=tf.float32)), training=False)\n",
    "# outputs = model.call((tf.convert_to_tensor(features,dtype=tf.float32),\\\n",
    "#                             tf.convert_to_tensor(scipy.sparse.csr_matrix.getnnz(adjs),dtype=tf.float32)),training=False)\n",
    "# outputs = model.call(embs)\n",
    "# pred_label = tf.argmax(outputs, 1)\n",
    "# acc = accuracy(outputs, labels)\n",
    "# print('model acc',acc.numpy())"
   ]
  },
  {
   "cell_type": "code",
   "execution_count": 27,
   "id": "9a4bf14f-3c76-4fc5-975f-9437cca93b39",
   "metadata": {},
   "outputs": [],
   "source": [
    "# embs = model.getNodeEmb((tf.convert_to_tensor(features,dtype=tf.float32),\\\n",
    "#                                tf.convert_to_tensor(adjs,dtype=tf.float32)), training=False)\n",
    "# rows = features.shape[0]\n",
    "# cols_f = features.shape[1]\n",
    "# cols_a = adjs.shape[1]\n",
    "# a = []\n",
    "# for i in range(0, rows):\n",
    "#     lst = []\n",
    "#     for j in range(0, cols_f):\n",
    "#         lst.append(features[i, j])\n",
    "#     for j in range(0, cols_a):\n",
    "#         lst.append(adjs[i, j])\n",
    "#     a.append(lst)\n",
    "# arr = np.array(a)\n",
    "# embs = tf.convert_to_tensor(arr, dtype=tf.float32)\n",
    "# outputs = model.call(embs),training=False)\n",
    "# pred_label = tf.argmax(outputs, 1)"
   ]
  },
  {
   "cell_type": "code",
   "execution_count": 28,
   "id": "bb64abbb-55fc-4e2a-90f3-a8fac46ba1d8",
   "metadata": {},
   "outputs": [],
   "source": [
    "# if args.setting==1:\n",
    "#     allnodes = [i for i in range(0,100)]\n",
    "# elif args.setting==2:\n",
    "#     allnodes = [i for i in range(0,100)]\n",
    "#     allnodes.extend([i for i in range(500,600)])\n",
    "# elif args.setting==3:\n",
    "#     allnodes=[i for i in range(1000)]\n",
    "# explainer = Explainer(model=model,nodesize=len(model.values()))"
   ]
  },
  {
   "cell_type": "code",
   "execution_count": 29,
   "id": "b3429f5c-10cf-41ea-b8cb-a83e16974079",
   "metadata": {},
   "outputs": [],
   "source": [
    "file = 'actual data/src/data/E116/saved_runs/model_2020-12-17-at-19-24-36.pt'\n",
    "model = torch.load(file, map_location=torch.device('cpu'))"
   ]
  },
  {
   "cell_type": "code",
   "execution_count": 30,
   "id": "bd2b1329-4c3b-4a7a-9722-0e1caa0c847c",
   "metadata": {},
   "outputs": [],
   "source": [
    "top_k = [i for i in range(0, 26)]\n",
    "all_elr = [i for i in range(0, 26)]\n",
    "coff_t0 = [i for i in range(1, 26)]\n",
    "coff_size = [i for i in range(0, 26)]\n",
    "coff_ent = [i for i in range(0, 26)]\n",
    "skp = [i for i in range(0, 26)]\n",
    "epochs = [i for i in range(250, 650, 50)]"
   ]
  },
  {
   "cell_type": "code",
   "execution_count": 31,
   "id": "358a7e11-911b-45fb-9582-fd46f66b0cf6",
   "metadata": {},
   "outputs": [
    {
     "data": {
      "text/plain": [
       "[250, 300, 350, 400, 450, 500, 550, 600]"
      ]
     },
     "execution_count": 31,
     "metadata": {},
     "output_type": "execute_result"
    }
   ],
   "source": [
    "epochs"
   ]
  },
  {
   "cell_type": "code",
   "execution_count": 32,
   "id": "607237d5-13a6-4721-bc0e-39dbad8c0310",
   "metadata": {},
   "outputs": [],
   "source": [
    "rows = []"
   ]
  },
  {
   "cell_type": "code",
   "execution_count": 33,
   "id": "03ca93d4-cd68-40ff-bce2-76bc0ba3872a",
   "metadata": {},
   "outputs": [],
   "source": [
    "explainer = Explainer(model=model,nodesize=all_nodes)"
   ]
  },
  {
   "cell_type": "markdown",
   "id": "f85cb76f-90d7-4ecf-b3c8-f57c22443da0",
   "metadata": {},
   "source": [
    "\"Fidelity metric measures whether the explanations are faithfully important to the model’s predictions. It removes the important structures from the input graphs and computes the difference between predictions. In addition, the Sparsity metric measures the fraction of structures that are identified as important by explanation methods.\""
   ]
  },
  {
   "cell_type": "code",
   "execution_count": 39,
   "id": "23d61c2c-b479-423c-9045-737fce97959b",
   "metadata": {},
   "outputs": [
    {
     "ename": "RuntimeError",
     "evalue": "[enforce fail at C:\\Users\\builder\\tkoch\\workspace\\pytorch\\pytorch_1647970138273\\work\\c10\\core\\CPUAllocator.cpp:76] data. DefaultCPUAllocator: not enough memory: you tried to allocate 312723653064 bytes.",
     "output_type": "error",
     "traceback": [
      "\u001b[1;31m---------------------------------------------------------------------------\u001b[0m",
      "\u001b[1;31mRuntimeError\u001b[0m                              Traceback (most recent call last)",
      "Input \u001b[1;32mIn [39]\u001b[0m, in \u001b[0;36m<cell line: 8>\u001b[1;34m()\u001b[0m\n\u001b[0;32m      5\u001b[0m v \u001b[38;5;241m=\u001b[39m torch\u001b[38;5;241m.\u001b[39mFloatTensor(values)\n\u001b[0;32m      6\u001b[0m shape \u001b[38;5;241m=\u001b[39m embs\u001b[38;5;241m.\u001b[39mshape\n\u001b[1;32m----> 8\u001b[0m embs \u001b[38;5;241m=\u001b[39m \u001b[43mtorch\u001b[49m\u001b[38;5;241;43m.\u001b[39;49m\u001b[43msparse\u001b[49m\u001b[38;5;241;43m.\u001b[39;49m\u001b[43mFloatTensor\u001b[49m\u001b[43m(\u001b[49m\u001b[43mi\u001b[49m\u001b[43m,\u001b[49m\u001b[43m \u001b[49m\u001b[43mv\u001b[49m\u001b[43m,\u001b[49m\u001b[43m \u001b[49m\u001b[43mtorch\u001b[49m\u001b[38;5;241;43m.\u001b[39;49m\u001b[43mSize\u001b[49m\u001b[43m(\u001b[49m\u001b[43mshape\u001b[49m\u001b[43m)\u001b[49m\u001b[43m)\u001b[49m\u001b[38;5;241;43m.\u001b[39;49m\u001b[43mto_dense\u001b[49m\u001b[43m(\u001b[49m\u001b[43m)\u001b[49m\n",
      "\u001b[1;31mRuntimeError\u001b[0m: [enforce fail at C:\\Users\\builder\\tkoch\\workspace\\pytorch\\pytorch_1647970138273\\work\\c10\\core\\CPUAllocator.cpp:76] data. DefaultCPUAllocator: not enough memory: you tried to allocate 312723653064 bytes."
     ]
    }
   ],
   "source": [
    "values = embs.data\n",
    "indices = np.vstack((embs.row, embs.col))\n",
    "\n",
    "i = torch.LongTensor(indices)\n",
    "v = torch.FloatTensor(values)\n",
    "shape = embs.shape\n",
    "\n",
    "embs = torch.sparse.FloatTensor(i, v, torch.Size(shape)).to_dense()"
   ]
  },
  {
   "cell_type": "code",
   "execution_count": 40,
   "id": "8ef48b22-787f-4bcb-99ff-3dbc63db1f92",
   "metadata": {},
   "outputs": [],
   "source": [
    "count = 0"
   ]
  },
  {
   "cell_type": "code",
   "execution_count": 41,
   "id": "1cbc6432-29f4-47a7-8c59-acdcd57050ce",
   "metadata": {},
   "outputs": [
    {
     "ename": "TypeError",
     "evalue": "'coo_matrix' object is not subscriptable",
     "output_type": "error",
     "traceback": [
      "\u001b[1;31m---------------------------------------------------------------------------\u001b[0m",
      "\u001b[1;31mTypeError\u001b[0m                                 Traceback (most recent call last)",
      "Input \u001b[1;32mIn [41]\u001b[0m, in \u001b[0;36m<cell line: 1>\u001b[1;34m()\u001b[0m\n\u001b[0;32m     13\u001b[0m skip \u001b[38;5;241m=\u001b[39m sk\n\u001b[0;32m     14\u001b[0m \u001b[38;5;28;01mfor\u001b[39;00m ep \u001b[38;5;129;01min\u001b[39;00m epochs:\n\u001b[1;32m---> 15\u001b[0m     \u001b[43mtrain\u001b[49m\u001b[43m(\u001b[49m\u001b[43mep\u001b[49m\u001b[43m)\u001b[49m\n\u001b[0;32m     16\u001b[0m     auc, fidelity, sparsity \u001b[38;5;241m=\u001b[39m test()\n\u001b[0;32m     17\u001b[0m     row \u001b[38;5;241m=\u001b[39m [k, elr, c, en, sk, ep, auc, fidelity, sparsity]\n",
      "Input \u001b[1;32mIn [2]\u001b[0m, in \u001b[0;36mtrain\u001b[1;34m(epochs)\u001b[0m\n\u001b[0;32m     42\u001b[0m \u001b[38;5;28;01mfor\u001b[39;00m gid \u001b[38;5;129;01min\u001b[39;00m train_instances:\n\u001b[0;32m     43\u001b[0m     \u001b[38;5;28;01mwith\u001b[39;00m tf\u001b[38;5;241m.\u001b[39mGradientTape() \u001b[38;5;28;01mas\u001b[39;00m tape:\n\u001b[1;32m---> 44\u001b[0m         pred \u001b[38;5;241m=\u001b[39m explainer((features[gid],\u001b[43membs\u001b[49m\u001b[43m[\u001b[49m\u001b[43mgid\u001b[49m\u001b[43m]\u001b[49m,adjs[gid],tmp, labels[gid]),training\u001b[38;5;241m=\u001b[39m\u001b[38;5;28;01mTrue\u001b[39;00m)\n\u001b[0;32m     45\u001b[0m         loss \u001b[38;5;241m+\u001b[39m\u001b[38;5;241m=\u001b[39m explainer\u001b[38;5;241m.\u001b[39mloss(pred, labels[gid])\n\u001b[0;32m     46\u001b[0m train_variables \u001b[38;5;241m=\u001b[39m [para \u001b[38;5;28;01mfor\u001b[39;00m para \u001b[38;5;129;01min\u001b[39;00m explainer\u001b[38;5;241m.\u001b[39mtrainable_variables]\n",
      "\u001b[1;31mTypeError\u001b[0m: 'coo_matrix' object is not subscriptable"
     ]
    }
   ],
   "source": [
    "for k in top_k:\n",
    "    topk = k\n",
    "    for elr in all_elr:\n",
    "        args.elr = elr\n",
    "        optimizer = tf.keras.optimizers.Adam(learning_rate=args.elr)\n",
    "        for c in coff_t0:\n",
    "            args.coff_t0 = c\n",
    "            for s in coff_size:\n",
    "                args.coff_size = s\n",
    "                for en in coff_ent:\n",
    "                    args.coff_ent = en\n",
    "                    for sk in skp:\n",
    "                        skip = sk\n",
    "                        for ep in epochs:\n",
    "                            train(ep)\n",
    "                            auc, fidelity, sparsity = test()\n",
    "                            row = [k, elr, c, en, sk, ep, auc, fidelity, sparsity]\n",
    "                            rows.append(row)\n",
    "                            count += 1\n",
    "                            if count % 100:\n",
    "                                print('Ran 100')"
   ]
  },
  {
   "cell_type": "code",
   "execution_count": null,
   "id": "216ab906-fcbc-4fab-9d66-bf1a4a399bba",
   "metadata": {},
   "outputs": [],
   "source": [
    "col_names = ['K', 'elr', 'coff_t0', 'coff_size', 'coff_ent', 'Skip', 'AUC', 'Fidelity', 'Sparsity']\n",
    "filename = 'results.csv'\n",
    "with open('results.csv', 'w') as f: \n",
    "    write = csv.writer(f) \n",
    "    write.writerow(col_names) \n",
    "    write.writerows(rows) "
   ]
  }
 ],
 "metadata": {
  "kernelspec": {
   "display_name": "Python 3 (ipykernel)",
   "language": "python",
   "name": "python3"
  },
  "language_info": {
   "codemirror_mode": {
    "name": "ipython",
    "version": 3
   },
   "file_extension": ".py",
   "mimetype": "text/x-python",
   "name": "python",
   "nbconvert_exporter": "python",
   "pygments_lexer": "ipython3",
   "version": "3.9.12"
  }
 },
 "nbformat": 4,
 "nbformat_minor": 5
}
