{
 "cells": [
  {
   "cell_type": "code",
   "execution_count": null,
   "id": "9b6b05f2-b4ea-429b-99c5-c69c04e809a3",
   "metadata": {},
   "outputs": [],
   "source": [
    "import sys\n",
    "#sys.path.append('./codes/forgraph/')\n",
    "from config import args\n",
    "from sklearn.metrics import roc_auc_score\n",
    "from models import GCN\n",
    "from metrics import *\n",
    "import numpy as np\n",
    "from Explainer import Explainer\n",
    "from scipy.sparse import coo_matrix,csr_matrix\n",
    "import pickle as pkl\n",
    "import csv\n",
    "import pandas as pd\n",
    "import bokeh.io\n",
    "import bokeh.plotting\n",
    "bokeh.io.output_notebook()"
   ]
  },
  {
   "cell_type": "code",
   "execution_count": null,
   "id": "4fe9cbf1-fdff-48f7-8496-5edf1f430f72",
   "metadata": {},
   "outputs": [],
   "source": [
    "def acc(adj,insert):\n",
    "    mask = explainer.masked_adj.numpy()\n",
    "    adj = coo_matrix(adj)\n",
    "    for r,c in list(zip(adj.row,adj.col)):\n",
    "        if r>=insert and r<insert+skip and c>=insert and c<insert+skip:\n",
    "            reals.append(1)\n",
    "        else:\n",
    "            reals.append(0)\n",
    "        preds.append(mask[r][c])\n",
    "        \n",
    "def explain_graph(gid):\n",
    "    fea,emb,adj,label,graphid = features[gid], embs[gid], adjs[gid], labels[gid], gid\n",
    "    explainer((fea,emb,adj,1.0,label))\n",
    "    insert = 20\n",
    "    acc(adj,insert)\n",
    "    \n",
    "def test():\n",
    "    global preds\n",
    "    global reals\n",
    "    preds = []\n",
    "    reals = []\n",
    "    for gid in allnodes:\n",
    "        explain_graph(gid)\n",
    "    auc = roc_auc_score(reals,preds)\n",
    "    return auc\n",
    "\n",
    "def train(epochs):\n",
    "    t0 = args.coff_t0\n",
    "    t1 = args.coff_te\n",
    "\n",
    "    for epoch in range(epochs): \n",
    "        loss = 0\n",
    "        tmp = float(t0 * np.power(t1 / t0, epoch /epochs))\n",
    "        train_instances = [ins for ins in range(adjs.shape[0])]\n",
    "        np.random.shuffle(train_instances)\n",
    "        for gid in train_instances:\n",
    "            with tf.GradientTape() as tape:\n",
    "                pred = explainer((features[gid],embs[gid],adjs[gid],tmp, labels[gid]),training=True)\n",
    "                loss += explainer.loss(pred, labels[gid])\n",
    "        train_variables = [para for para in explainer.trainable_variables]\n",
    "        grads = tape.gradient(loss, train_variables)\n",
    "        optimizer.apply_gradients(zip(grads, train_variables))"
   ]
  },
  {
   "cell_type": "code",
   "execution_count": null,
   "id": "3620028e-6cf3-4157-bf0c-6836045dcc0d",
   "metadata": {},
   "outputs": [],
   "source": [
    "file = \n",
    "with open(file,'rb') as fin:\n",
    "    adjs,features,labels = pkl.load(fin)\n",
    "\n",
    "model = GCN(input_dim=features.shape[-1], output_dim=labels.shape[1])\n",
    "model.load_weights(args.save_path+args.dataset)\n",
    "\n",
    "\n",
    "embs = model.getNodeEmb((tf.convert_to_tensor(features,dtype=tf.float32),\\\n",
    "                               tf.convert_to_tensor(adjs,dtype=tf.float32)), training=False)\n",
    "outputs = model.call((tf.convert_to_tensor(features,dtype=tf.float32),\\\n",
    "                            tf.convert_to_tensor(adjs,dtype=tf.float32)),training=False)\n",
    "pred_label = tf.argmax(outputs, 1)\n",
    "\n",
    "acc = accuracy(outputs, labels)\n",
    "print('model acc',acc.numpy())\n",
    "\n",
    "embs = model.getNodeEmb((tf.convert_to_tensor(features,dtype=tf.float32),\\\n",
    "                               tf.convert_to_tensor(adjs,dtype=tf.float32)), training=False)\n",
    "outputs = model.call((tf.convert_to_tensor(features,dtype=tf.float32),\\\n",
    "                            tf.convert_to_tensor(adjs,dtype=tf.float32)),training=False)\n",
    "pred_label = tf.argmax(outputs, 1)"
   ]
  },
  {
   "cell_type": "code",
   "execution_count": null,
   "id": "bb64abbb-55fc-4e2a-90f3-a8fac46ba1d8",
   "metadata": {},
   "outputs": [],
   "source": [
    "if args.setting==1:\n",
    "    allnodes = [i for i in range(0,100)]\n",
    "elif args.setting==2:\n",
    "    allnodes = [i for i in range(0,100)]\n",
    "    allnodes.extend([i for i in range(500,600)])\n",
    "elif args.setting==3:\n",
    "    allnodes=[i for i in range(1000)]\n",
    "explainer = Explainer(model=model,nodesize=adjs.shape[1])"
   ]
  },
  {
   "cell_type": "code",
   "execution_count": null,
   "id": "bd2b1329-4c3b-4a7a-9722-0e1caa0c847c",
   "metadata": {},
   "outputs": [],
   "source": [
    "top_k = [i for in in range(0, 25)]\n",
    "all_elr = \n",
    "coff_t0 = \n",
    "coff_size = \n",
    "coff_ent = \n",
    "skp = \n",
    "epochs = 500"
   ]
  },
  {
   "cell_type": "code",
   "execution_count": null,
   "id": "607237d5-13a6-4721-bc0e-39dbad8c0310",
   "metadata": {},
   "outputs": [],
   "source": [
    "rows = []"
   ]
  },
  {
   "cell_type": "code",
   "execution_count": null,
   "id": "1cbc6432-29f4-47a7-8c59-acdcd57050ce",
   "metadata": {},
   "outputs": [],
   "source": [
    "for k in top_k:\n",
    "    topk = k\n",
    "    for elr in all_elr:\n",
    "        args.elr = elr\n",
    "        optimizer = tf.keras.optimizers.Adam(learning_rate=args.elr)\n",
    "        for c in coff_t0:\n",
    "            args.coff_t0 = c\n",
    "            for s in coff_size:\n",
    "                args.coff_size = s\n",
    "                for en in coff_ent:\n",
    "                    args.coff_ent = en\n",
    "                    for sk in skp:\n",
    "                        skip = sk\n",
    "                        for ep in epochs:\n",
    "                            train(ep)\n",
    "                            auc = test()\n",
    "                            row = [k, elr, c, en, sk, ep, auc]\n",
    "                            rows.append(row)"
   ]
  },
  {
   "cell_type": "code",
   "execution_count": null,
   "id": "216ab906-fcbc-4fab-9d66-bf1a4a399bba",
   "metadata": {},
   "outputs": [],
   "source": [
    "col_names = ['K', 'elr', 'coff_t0', 'coff_size', 'coff_ent', 'Skip', 'AUC']\n",
    "filename = 'results.csv'\n",
    "with open('results.csv', 'w') as f: \n",
    "    write = csv.writer(f) \n",
    "    write.writerow(col_names) \n",
    "    write.writerows(rows) "
   ]
  },
  {
   "cell_type": "code",
   "execution_count": null,
   "id": "0a2eae9d-2229-45fa-aa06-d0f645583521",
   "metadata": {},
   "outputs": [],
   "source": [
    "df = pd.read_csv(file_name)\n",
    "df.head()"
   ]
  },
  {
   "cell_type": "code",
   "execution_count": null,
   "id": "2084c342-07c9-481a-8c70-b82c1cf08d74",
   "metadata": {},
   "outputs": [],
   "source": [
    "p = bokeh.plotting.figure(\n",
    "    width=400,\n",
    "    height=300,\n",
    "    x_axis_label=\"K\",\n",
    "    y_axis_label=\"AUC\",\n",
    ")\n",
    "bokeh.io.show(p)"
   ]
  },
  {
   "cell_type": "code",
   "execution_count": null,
   "id": "648a0621-9eba-4ff6-a3ad-4056acd9d381",
   "metadata": {},
   "outputs": [],
   "source": [
    "p = bokeh.plotting.figure(\n",
    "    width=400,\n",
    "    height=300,\n",
    "    x_axis_label=\"elr\",\n",
    "    y_axis_label=\"AUC\",\n",
    ")\n",
    "bokeh.io.show(p)"
   ]
  },
  {
   "cell_type": "code",
   "execution_count": null,
   "id": "72ed4dbb-d921-48b2-81f1-905e3bb59c54",
   "metadata": {},
   "outputs": [],
   "source": [
    "p = bokeh.plotting.figure(\n",
    "    width=400,\n",
    "    height=300,\n",
    "    x_axis_label=\"coff_t0\",\n",
    "    y_axis_label=\"AUC\",\n",
    ")\n",
    "bokeh.io.show(p)"
   ]
  },
  {
   "cell_type": "code",
   "execution_count": null,
   "id": "7de2e021-594d-4ebf-82d9-19f5f2309939",
   "metadata": {},
   "outputs": [],
   "source": [
    "p = bokeh.plotting.figure(\n",
    "    width=400,\n",
    "    height=300,\n",
    "    x_axis_label=\"coff_size\",\n",
    "    y_axis_label=\"AUC\",\n",
    ")\n",
    "bokeh.io.show(p)"
   ]
  },
  {
   "cell_type": "code",
   "execution_count": null,
   "id": "7f1b75f5-a73e-4864-829c-3e438eda4a0a",
   "metadata": {},
   "outputs": [],
   "source": [
    "p = bokeh.plotting.figure(\n",
    "    width=400,\n",
    "    height=300,\n",
    "    x_axis_label=\"coff_ent\",\n",
    "    y_axis_label=\"AUC\",\n",
    ")\n",
    "bokeh.io.show(p)"
   ]
  },
  {
   "cell_type": "code",
   "execution_count": null,
   "id": "d26089eb-e741-49eb-9bb6-65b6fe896abe",
   "metadata": {},
   "outputs": [],
   "source": [
    "p = bokeh.plotting.figure(\n",
    "    width=400,\n",
    "    height=300,\n",
    "    x_axis_label=\"Skip\",\n",
    "    y_axis_label=\"AUC\",\n",
    ")\n",
    "bokeh.io.show(p)"
   ]
  }
 ],
 "metadata": {
  "kernelspec": {
   "display_name": "Python 3 (ipykernel)",
   "language": "python",
   "name": "python3"
  },
  "language_info": {
   "codemirror_mode": {
    "name": "ipython",
    "version": 3
   },
   "file_extension": ".py",
   "mimetype": "text/x-python",
   "name": "python",
   "nbconvert_exporter": "python",
   "pygments_lexer": "ipython3",
   "version": "3.9.12"
  }
 },
 "nbformat": 4,
 "nbformat_minor": 5
}
