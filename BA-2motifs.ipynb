{
 "cells": [
  {
   "cell_type": "code",
   "execution_count": 2,
   "metadata": {},
   "outputs": [
    {
     "name": "stderr",
     "output_type": "stream",
     "text": [
      "2022-10-19 09:52:32.168040: I tensorflow/core/platform/cpu_feature_guard.cc:193] This TensorFlow binary is optimized with oneAPI Deep Neural Network Library (oneDNN) to use the following CPU instructions in performance-critical operations:  SSE4.1 SSE4.2\n",
      "To enable them in other operations, rebuild TensorFlow with the appropriate compiler flags.\n"
     ]
    }
   ],
   "source": [
    "import sys\n",
    "sys.path.append('./codes/forgraph/')\n",
    "from config import args\n",
    "from sklearn.metrics import roc_auc_score\n",
    "from models import GCN\n",
    "from metrics import *\n",
    "import numpy as np\n",
    "from Explainer import Explainer\n",
    "from scipy.sparse import coo_matrix,csr_matrix\n",
    "import networkx as nx\n",
    "skip = 5\n",
    "topk = 5\n",
    "import matplotlib\n",
    "import matplotlib.pyplot as plt\n",
    "import pickle as pkl\n",
    "\n",
    "\n",
    "args.elr = 0.003\n",
    "args.coff_t0=5.0\n",
    "args.coff_t0=1.0\n",
    "args.coff_size = 0.00\n",
    "args.coff_ent = 0.000\n",
    "\n"
   ]
  },
  {
   "cell_type": "code",
   "execution_count": 3,
   "metadata": {},
   "outputs": [
    {
     "name": "stdout",
     "output_type": "stream",
     "text": [
      "model acc 1.0\n"
     ]
    },
    {
     "name": "stderr",
     "output_type": "stream",
     "text": [
      "2022-10-19 09:53:09.654991: I tensorflow/core/platform/cpu_feature_guard.cc:193] This TensorFlow binary is optimized with oneAPI Deep Neural Network Library (oneDNN) to use the following CPU instructions in performance-critical operations:  SSE4.1 SSE4.2\n",
      "To enable them in other operations, rebuild TensorFlow with the appropriate compiler flags.\n"
     ]
    }
   ],
   "source": [
    "with open('./dataset/BA-2motif.pkl','rb') as fin:\n",
    "    adjs,features,labels = pkl.load(fin)\n",
    "\n",
    "model = GCN(input_dim=features.shape[-1], output_dim=labels.shape[1])\n",
    "model.load_weights(args.save_path+args.dataset)\n",
    "\n",
    "\n",
    "embs = model.getNodeEmb((tf.convert_to_tensor(features,dtype=tf.float32),\\\n",
    "                               tf.convert_to_tensor(adjs,dtype=tf.float32)), training=False)\n",
    "outputs = model.call((tf.convert_to_tensor(features,dtype=tf.float32),\\\n",
    "                            tf.convert_to_tensor(adjs,dtype=tf.float32)),training=False)\n",
    "pred_label = tf.argmax(outputs, 1)\n",
    "\n",
    "acc = accuracy(outputs, labels)\n",
    "print('model acc',acc.numpy())\n",
    "\n",
    "embs = model.getNodeEmb((tf.convert_to_tensor(features,dtype=tf.float32),\\\n",
    "                               tf.convert_to_tensor(adjs,dtype=tf.float32)), training=False)\n",
    "outputs = model.call((tf.convert_to_tensor(features,dtype=tf.float32),\\\n",
    "                            tf.convert_to_tensor(adjs,dtype=tf.float32)),training=False)\n",
    "pred_label = tf.argmax(outputs, 1)\n"
   ]
  },
  {
   "cell_type": "code",
   "execution_count": 4,
   "metadata": {},
   "outputs": [],
   "source": [
    "if args.setting==1:\n",
    "    allnodes = [i for i in range(0,100)]\n",
    "elif args.setting==2:\n",
    "    allnodes = [i for i in range(0,100)]\n",
    "    allnodes.extend([i for i in range(500,600)])\n",
    "elif args.setting==3:\n",
    "    allnodes=[i for i in range(1000)]\n",
    "explainer = Explainer(model=model,nodesize=adjs.shape[1])\n",
    "optimizer = tf.keras.optimizers.Adam(learning_rate=args.elr)\n"
   ]
  },
  {
   "cell_type": "code",
   "execution_count": 5,
   "metadata": {},
   "outputs": [],
   "source": [
    "def acc(adj,insert):\n",
    "    mask = explainer.masked_adj.numpy()\n",
    "    adj = coo_matrix(adj)\n",
    "    for r,c in list(zip(adj.row,adj.col)):\n",
    "        if r>=insert and r<insert+skip and c>=insert and c<insert+skip:\n",
    "            reals.append(1)\n",
    "        else:\n",
    "            reals.append(0)\n",
    "        preds.append(mask[r][c])"
   ]
  },
  {
   "cell_type": "code",
   "execution_count": 6,
   "metadata": {},
   "outputs": [],
   "source": [
    "def explain_graph(gid):\n",
    "    fea,emb,adj,label,graphid = features[gid], embs[gid], adjs[gid], labels[gid], gid\n",
    "    explainer((fea,emb,adj,1.0,label))\n",
    "    insert = 20\n",
    "    acc(adj,insert)"
   ]
  },
  {
   "cell_type": "code",
   "execution_count": 7,
   "metadata": {},
   "outputs": [],
   "source": [
    "def test():\n",
    "    global preds\n",
    "    global reals\n",
    "    preds = []\n",
    "    reals = []\n",
    "    for gid in allnodes:\n",
    "        explain_graph(gid)\n",
    "    auc = roc_auc_score(reals,preds)\n",
    "    return auc"
   ]
  },
  {
   "cell_type": "code",
   "execution_count": 8,
   "metadata": {},
   "outputs": [],
   "source": [
    "def train():\n",
    "    epochs = 10\n",
    "    t0 = args.coff_t0\n",
    "    t1 = args.coff_te\n",
    "\n",
    "    for epoch in range(epochs):\n",
    "        if epoch%1==0:\n",
    "            auc = test()\n",
    "            print('auc',auc)\n",
    "\n",
    "            \n",
    "        loss = 0\n",
    "        tmp = float(t0 * np.power(t1 / t0, epoch /epochs))\n",
    "        train_instances = [ins for ins in range(adjs.shape[0])]\n",
    "        np.random.shuffle(train_instances)\n",
    "        for gid in train_instances:\n",
    "            with tf.GradientTape() as tape:\n",
    "                pred = explainer((features[gid],embs[gid],adjs[gid],tmp, labels[gid]),training=True)\n",
    "                loss += explainer.loss(pred, labels[gid])\n",
    "                \n",
    "#         train_variables = [para for para in explainer.trainable_variables\n",
    "#                            if para.name.startswith('explainer')]\n",
    "        train_variables = [para for para in explainer.trainable_variables]\n",
    "        grads = tape.gradient(loss, train_variables)\n",
    "        optimizer.apply_gradients(zip(grads, train_variables))\n",
    "        print('epoch',epoch,'loss',loss.numpy())\n"
   ]
  },
  {
   "cell_type": "code",
   "execution_count": 9,
   "metadata": {},
   "outputs": [
    {
     "name": "stdout",
     "output_type": "stream",
     "text": [
      "auc 0.011965620552699606\n",
      "epoch 0 loss 1999.3518\n",
      "auc 0.01479113117539426\n",
      "epoch 1 loss 1520.0646\n",
      "auc 0.016842902290087433\n",
      "epoch 2 loss 1236.8398\n",
      "auc 0.017821535280706347\n",
      "epoch 3 loss 1090.1023\n",
      "auc 0.01805955661322645\n",
      "epoch 4 loss 1052.2131\n",
      "auc 0.018722113611280535\n",
      "epoch 5 loss 1064.1089\n",
      "auc 0.01914778379222212\n",
      "epoch 6 loss 1090.7587\n",
      "auc 0.01987239878307339\n",
      "epoch 7 loss 1155.9995\n",
      "auc 0.02340970437251315\n",
      "epoch 8 loss 1221.5469\n",
      "auc 0.0443627290813511\n",
      "epoch 9 loss 1314.2928\n"
     ]
    }
   ],
   "source": [
    "train()"
   ]
  },
  {
   "cell_type": "code",
   "execution_count": 10,
   "metadata": {},
   "outputs": [
    {
     "name": "stdout",
     "output_type": "stream",
     "text": [
      "0.067249081496326\n"
     ]
    }
   ],
   "source": [
    "auc = test()\n",
    "print(auc)"
   ]
  },
  {
   "cell_type": "code",
   "execution_count": 11,
   "metadata": {},
   "outputs": [
    {
     "ename": "NameError",
     "evalue": "name 'plot' is not defined",
     "output_type": "error",
     "traceback": [
      "\u001b[0;31m---------------------------------------------------------------------------\u001b[0m",
      "\u001b[0;31mNameError\u001b[0m                                 Traceback (most recent call last)",
      "Input \u001b[0;32mIn [11]\u001b[0m, in \u001b[0;36m<cell line: 5>\u001b[0;34m()\u001b[0m\n\u001b[1;32m      3\u001b[0m fea,emb,adj,label,graphid \u001b[38;5;241m=\u001b[39m features[gid], embs[gid], adjs[gid], labels[gid], gid\n\u001b[1;32m      4\u001b[0m explainer((fea,emb,adj,\u001b[38;5;241m1.0\u001b[39m,label))\n\u001b[0;32m----> 5\u001b[0m \u001b[43mplot\u001b[49m(adj,label,graphid)\n",
      "\u001b[0;31mNameError\u001b[0m: name 'plot' is not defined"
     ]
    }
   ],
   "source": [
    "gid = 501\n",
    "topk=6\n",
    "fea,emb,adj,label,graphid = features[gid], embs[gid], adjs[gid], labels[gid], gid\n",
    "explainer((fea,emb,adj,1.0,label))\n",
    "plot(adj,label,graphid)\n"
   ]
  },
  {
   "cell_type": "code",
   "execution_count": null,
   "metadata": {},
   "outputs": [],
   "source": [
    "gid = 1\n",
    "topk=5\n",
    "fea,emb,adj,label,graphid = features[gid], embs[gid], adjs[gid], labels[gid], gid\n",
    "explainer((fea,emb,adj,1.0,label))\n",
    "plot(adj,label,graphid)"
   ]
  }
 ],
 "metadata": {
  "kernelspec": {
   "display_name": "Python 3 (ipykernel)",
   "language": "python",
   "name": "python3"
  },
  "language_info": {
   "codemirror_mode": {
    "name": "ipython",
    "version": 3
   },
   "file_extension": ".py",
   "mimetype": "text/x-python",
   "name": "python",
   "nbconvert_exporter": "python",
   "pygments_lexer": "ipython3",
   "version": "3.9.13"
  }
 },
 "nbformat": 4,
 "nbformat_minor": 4
}
