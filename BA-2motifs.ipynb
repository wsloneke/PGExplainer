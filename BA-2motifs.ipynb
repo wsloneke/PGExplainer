{
 "cells": [
  {
   "cell_type": "code",
   "execution_count": 1,
   "metadata": {},
   "outputs": [],
   "source": [
    "import sys\n",
    "sys.path.append('./codes/forgraph/')\n",
    "from config import args\n",
    "from sklearn.metrics import roc_auc_score\n",
    "from models import GCN\n",
    "from metrics import *\n",
    "import numpy as np\n",
    "from Explainer import Explainer\n",
    "from scipy.sparse import coo_matrix,csr_matrix\n",
    "import networkx as nx\n",
    "skip = 5\n",
    "topk = 5\n",
    "import matplotlib\n",
    "import matplotlib.pyplot as plt\n",
    "import pickle as pkl\n",
    "\n",
    "\n",
    "args.elr = 0.003\n",
    "args.coff_t0=5.0\n",
    "args.coff_t0=1.0\n",
    "args.coff_size = 0.00\n",
    "args.coff_ent = 0.000\n",
    "\n"
   ]
  },
  {
   "cell_type": "code",
   "execution_count": 2,
   "metadata": {},
   "outputs": [
    {
     "name": "stdout",
     "output_type": "stream",
     "text": [
      "model acc 1.0\n"
     ]
    }
   ],
   "source": [
    "with open('./dataset/BA-2motif.pkl','rb') as fin:\n",
    "    adjs,features,labels = pkl.load(fin)\n",
    "\n",
    "model = GCN(input_dim=features.shape[-1], output_dim=labels.shape[1])\n",
    "model.load_weights(args.save_path+args.dataset)\n",
    "\n",
    "\n",
    "embs = model.getNodeEmb((tf.convert_to_tensor(features,dtype=tf.float32),\\\n",
    "                               tf.convert_to_tensor(adjs,dtype=tf.float32)), training=False)\n",
    "outputs = model.call((tf.convert_to_tensor(features,dtype=tf.float32),\\\n",
    "                            tf.convert_to_tensor(adjs,dtype=tf.float32)),training=False)\n",
    "pred_label = tf.argmax(outputs, 1)\n",
    "\n",
    "acc = accuracy(outputs, labels)\n",
    "print('model acc',acc.numpy())\n",
    "\n",
    "embs = model.getNodeEmb((tf.convert_to_tensor(features,dtype=tf.float32),\\\n",
    "                               tf.convert_to_tensor(adjs,dtype=tf.float32)), training=False)\n",
    "outputs = model.call((tf.convert_to_tensor(features,dtype=tf.float32),\\\n",
    "                            tf.convert_to_tensor(adjs,dtype=tf.float32)),training=False)\n",
    "pred_label = tf.argmax(outputs, 1)\n"
   ]
  },
  {
   "cell_type": "code",
   "execution_count": 3,
   "metadata": {},
   "outputs": [],
   "source": [
    "if args.setting==1:\n",
    "    allnodes = [i for i in range(0,100)]\n",
    "elif args.setting==2:\n",
    "    allnodes = [i for i in range(0,100)]\n",
    "    allnodes.extend([i for i in range(500,600)])\n",
    "elif args.setting==3:\n",
    "    allnodes=[i for i in range(1000)]\n",
    "explainer = Explainer(model=model,nodesize=adjs.shape[1])\n",
    "optimizer = tf.keras.optimizers.Adam(learning_rate=args.elr)\n"
   ]
  },
  {
   "cell_type": "code",
   "execution_count": 4,
   "metadata": {},
   "outputs": [],
   "source": [
    "def acc(adj,insert):\n",
    "    mask = explainer.masked_adj.numpy()\n",
    "    adj = coo_matrix(adj)\n",
    "    for r,c in list(zip(adj.row,adj.col)):\n",
    "        if r>=insert and r<insert+skip and c>=insert and c<insert+skip:\n",
    "            reals.append(1)\n",
    "        else:\n",
    "            reals.append(0)\n",
    "        preds.append(mask[r][c])"
   ]
  },
  {
   "cell_type": "code",
   "execution_count": 6,
   "metadata": {},
   "outputs": [],
   "source": [
    "def explain_graph(gid):\n",
    "    fea,emb,adj,label,graphid = features[gid], embs[gid], adjs[gid], labels[gid], gid\n",
    "    explainer((fea,emb,adj,1.0,label))\n",
    "    insert = 20\n",
    "    acc(adj,insert)"
   ]
  },
  {
   "cell_type": "code",
   "execution_count": 7,
   "metadata": {},
   "outputs": [],
   "source": [
    "def test():\n",
    "    global preds\n",
    "    global reals\n",
    "    preds = []\n",
    "    reals = []\n",
    "    for gid in allnodes:\n",
    "        explain_graph(gid)\n",
    "    auc = roc_auc_score(reals,preds)\n",
    "    return auc"
   ]
  },
  {
   "cell_type": "code",
   "execution_count": 8,
   "metadata": {},
   "outputs": [],
   "source": [
    "def train():\n",
    "    epochs = 10\n",
    "    t0 = args.coff_t0\n",
    "    t1 = args.coff_te\n",
    "\n",
    "    for epoch in range(epochs):\n",
    "        if epoch%1==0:\n",
    "            auc = test()\n",
    "            print('auc',auc)\n",
    "\n",
    "            \n",
    "        loss = 0\n",
    "        tmp = float(t0 * np.power(t1 / t0, epoch /epochs))\n",
    "        train_instances = [ins for ins in range(adjs.shape[0])]\n",
    "        np.random.shuffle(train_instances)\n",
    "        for gid in train_instances:\n",
    "            with tf.GradientTape() as tape:\n",
    "                pred = explainer((features[gid],embs[gid],adjs[gid],tmp, labels[gid]),training=True)\n",
    "                loss += explainer.loss(pred, labels[gid])\n",
    "                \n",
    "#         train_variables = [para for para in explainer.trainable_variables\n",
    "#                            if para.name.startswith('explainer')]\n",
    "        train_variables = [para for para in explainer.trainable_variables]\n",
    "        grads = tape.gradient(loss, train_variables)\n",
    "        optimizer.apply_gradients(zip(grads, train_variables))\n",
    "        print('epoch',epoch,'loss',loss.numpy())\n"
   ]
  },
  {
   "cell_type": "code",
   "execution_count": 9,
   "metadata": {},
   "outputs": [
    {
     "name": "stdout",
     "output_type": "stream",
     "text": [
      "auc 0.5512461744140454\n",
      "epoch 0 loss 4010.122\n",
      "auc 0.4208197872193663\n",
      "epoch 1 loss 3189.9348\n",
      "auc 0.4127957000958439\n",
      "epoch 2 loss 2663.1658\n",
      "auc 0.41047459502338013\n",
      "epoch 3 loss 2282.934\n",
      "auc 0.40920529918532716\n",
      "epoch 4 loss 1994.7372\n",
      "auc 0.40732812999186785\n",
      "epoch 5 loss 1772.0656\n",
      "auc 0.4052312051639511\n",
      "epoch 6 loss 1613.6486\n",
      "auc 0.402533554427696\n",
      "epoch 7 loss 1542.915\n",
      "auc 0.39367174112718195\n",
      "epoch 8 loss 1474.3911\n",
      "auc 0.3644072565420696\n",
      "epoch 9 loss 1457.0272\n"
     ]
    }
   ],
   "source": [
    "train()"
   ]
  },
  {
   "cell_type": "code",
   "execution_count": 10,
   "metadata": {},
   "outputs": [
    {
     "name": "stdout",
     "output_type": "stream",
     "text": [
      "0.30968560762830005\n"
     ]
    }
   ],
   "source": [
    "auc = test()\n",
    "print(auc)"
   ]
  },
  {
   "cell_type": "code",
   "execution_count": 11,
   "metadata": {},
   "outputs": [
    {
     "data": {
      "image/png": "[encoded data removed]",
      "text/plain": [
       "<Figure size 432x288 with 1 Axes>"
      ]
     },
     "metadata": {},
     "output_type": "display_data"
    },
    {
     "data": {
      "text/plain": [
       "<Figure size 432x288 with 0 Axes>"
      ]
     },
     "metadata": {},
     "output_type": "display_data"
    }
   ],
   "source": [
    "gid = 501\n",
    "topk=6\n",
    "fea,emb,adj,label,graphid = features[gid], embs[gid], adjs[gid], labels[gid], gid\n",
    "explainer((fea,emb,adj,1.0,label))\n",
    "plot(adj,label,graphid)\n"
   ]
  },
  {
   "cell_type": "code",
   "execution_count": 12,
   "metadata": {},
   "outputs": [
    {
     "data": {
      "image/png": "[encoded data removed]",
      "text/plain": [
       "<Figure size 432x288 with 1 Axes>"
      ]
     },
     "metadata": {},
     "output_type": "display_data"
    },
    {
     "data": {
      "text/plain": [
       "<Figure size 432x288 with 0 Axes>"
      ]
     },
     "metadata": {},
     "output_type": "display_data"
    }
   ],
   "source": [
    "gid = 1\n",
    "topk=5\n",
    "fea,emb,adj,label,graphid = features[gid], embs[gid], adjs[gid], labels[gid], gid\n",
    "explainer((fea,emb,adj,1.0,label))\n",
    "plot(adj,label,graphid)"
   ]
  }
 ],
 "metadata": {
  "kernelspec": {
   "display_name": "Python 3 (ipykernel)",
   "language": "python",
   "name": "python3"
  },
  "language_info": {
   "codemirror_mode": {
    "name": "ipython",
    "version": 3
   },
   "file_extension": ".py",
   "mimetype": "text/x-python",
   "name": "python",
   "nbconvert_exporter": "python",
   "pygments_lexer": "ipython3",
   "version": "3.9.12"
  }
 },
 "nbformat": 4,
 "nbformat_minor": 4
}
